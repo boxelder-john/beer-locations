{
 "cells": [
  {
   "cell_type": "code",
   "execution_count": 1,
   "metadata": {
    "collapsed": true
   },
   "outputs": [],
   "source": [
    "import pandas as pd, matplotlib.pyplot as plt, matplotlib.font_manager as fm\n",
    "%matplotlib inline"
   ]
  },
  {
   "cell_type": "code",
   "execution_count": 2,
   "metadata": {
    "collapsed": false
   },
   "outputs": [
    {
     "name": "stdout",
     "output_type": "stream",
     "text": [
      "[u'seaborn-darkgrid', u'seaborn-notebook', u'classic', u'seaborn-ticks', u'grayscale', u'bmh', u'seaborn-talk', u'dark_background', u'ggplot', u'fivethirtyeight', u'seaborn-colorblind', u'seaborn-deep', u'seaborn-whitegrid', u'seaborn-bright', u'seaborn-poster', u'seaborn-muted', u'seaborn-paper', u'seaborn-white', u'seaborn-pastel', u'seaborn-dark', u'seaborn-dark-palette']\n"
     ]
    }
   ],
   "source": [
    "plt.style.use('bmh')\n",
    "print plt.style.available"
   ]
  },
  {
   "cell_type": "code",
   "execution_count": 3,
   "metadata": {
    "collapsed": false
   },
   "outputs": [],
   "source": [
    "family = 'Myriad Pro'\n",
    "title_font = fm.FontProperties(family=family, style='normal', size=18, weight='normal', stretch='normal')\n",
    "label_font = fm.FontProperties(family=family, style='normal', size=16, weight='normal', stretch='normal')\n",
    "ticks_font = fm.FontProperties(family=family, style='normal', size=14, weight='normal', stretch='normal')"
   ]
  },
  {
   "cell_type": "code",
   "execution_count": 4,
   "metadata": {
    "collapsed": false
   },
   "outputs": [
    {
     "data": {
      "text/plain": [
       "['address',\n",
       " 'city',\n",
       " 'id',\n",
       " 'name',\n",
       " 'state',\n",
       " 'type',\n",
       " 'x',\n",
       " 'y',\n",
       " 'zip',\n",
       " 'first_appearance',\n",
       " 'final_appearance',\n",
       " 'block_fips',\n",
       " 'tract_fips']"
      ]
     },
     "execution_count": 4,
     "metadata": {},
     "output_type": "execute_result"
    }
   ],
   "source": [
    "data_types = {'zip':str, 'block_fips':str, 'tract_fips':str}\n",
    "df = pd.read_csv('datasets/locations-final-cleaned.csv', converters=data_types)\n",
    "list(df.columns)"
   ]
  },
  {
   "cell_type": "code",
   "execution_count": 5,
   "metadata": {
    "collapsed": false
   },
   "outputs": [],
   "source": [
    "df['tract_fips'] = df['tract_fips'].str.zfill(11)"
   ]
  },
  {
   "cell_type": "code",
   "execution_count": 6,
   "metadata": {
    "collapsed": false
   },
   "outputs": [
    {
     "data": {
      "text/plain": [
       "51"
      ]
     },
     "execution_count": 6,
     "metadata": {},
     "output_type": "execute_result"
    }
   ],
   "source": [
    "# how many states are in the dataset\n",
    "len(df['state'].unique())"
   ]
  },
  {
   "cell_type": "code",
   "execution_count": 7,
   "metadata": {
    "collapsed": false
   },
   "outputs": [
    {
     "data": {
      "text/plain": [
       "CA    707\n",
       "CO    310\n",
       "OR    303\n",
       "WA    285\n",
       "MI    228\n",
       "Name: state, dtype: int64"
      ]
     },
     "execution_count": 7,
     "metadata": {},
     "output_type": "execute_result"
    }
   ],
   "source": [
    "# what states have the most beer locations\n",
    "df['state'].value_counts().head()"
   ]
  },
  {
   "cell_type": "code",
   "execution_count": 8,
   "metadata": {
    "collapsed": true
   },
   "outputs": [],
   "source": [
    "# only keep the rows that are still open as of 2015\n",
    "df = df[df['final_appearance']==2015]"
   ]
  },
  {
   "cell_type": "code",
   "execution_count": 9,
   "metadata": {
    "collapsed": false
   },
   "outputs": [
    {
     "data": {
      "text/plain": [
       "2015    4044\n",
       "Name: final_appearance, dtype: int64"
      ]
     },
     "execution_count": 9,
     "metadata": {},
     "output_type": "execute_result"
    }
   ],
   "source": [
    "df['final_appearance'].value_counts()"
   ]
  },
  {
   "cell_type": "code",
   "execution_count": 10,
   "metadata": {
    "collapsed": false
   },
   "outputs": [
    {
     "data": {
      "image/png": "[encoded data removed]",
      "text/plain": [
       "<matplotlib.figure.Figure at 0xc6e7400>"
      ]
     },
     "metadata": {},
     "output_type": "display_data"
    }
   ],
   "source": [
    "# plot a histogram\n",
    "countdata = df['state'].value_counts().head(10)\n",
    "\n",
    "ax = countdata.plot(kind='bar',                 \n",
    "                    figsize=[9, 6], \n",
    "                    width=0.6, \n",
    "                    alpha=0.6, \n",
    "                    color='k',\n",
    "                    edgecolor='k')\n",
    "\n",
    "ax.set_xticks(map(lambda x: x, range(0, len(countdata))))\n",
    "ax.set_xticklabels(countdata.index, rotation=0, rotation_mode='anchor', ha='center')\n",
    "ax.xaxis.grid(False)\n",
    "ax.yaxis.grid(True)\n",
    "\n",
    "ax.set_axis_bgcolor('#ffffff')   \n",
    "ax.set_title('States with the most craft beer locations', font_properties=title_font)\n",
    "ax.set_xlabel('')\n",
    "ax.set_ylabel('Number of locations (as of 2015)', font_properties=label_font)\n",
    "ax.set_ylim(0, 625)\n",
    "\n",
    "fig = plt.gcf()\n",
    "fig.tight_layout()\n",
    "fig.savefig('states-beer-locations.png', dpi=300)\n",
    "\n",
    "plt.show()"
   ]
  },
  {
   "cell_type": "code",
   "execution_count": 11,
   "metadata": {
    "collapsed": false
   },
   "outputs": [
    {
     "data": {
      "text/plain": [
       "Brewery          2047\n",
       "BrewPub          1723\n",
       "BrewHouse         269\n",
       "BrewonPremise       3\n",
       "Brewpub             2\n",
       "Name: type, dtype: int64"
      ]
     },
     "execution_count": 11,
     "metadata": {},
     "output_type": "execute_result"
    }
   ],
   "source": [
    "df['type'].value_counts()"
   ]
  },
  {
   "cell_type": "code",
   "execution_count": 12,
   "metadata": {
    "collapsed": false
   },
   "outputs": [
    {
     "data": {
      "text/plain": [
       "2047"
      ]
     },
     "execution_count": 12,
     "metadata": {},
     "output_type": "execute_result"
    }
   ],
   "source": [
    "breweries = df[df['type']=='Brewery']\n",
    "len(breweries)"
   ]
  },
  {
   "cell_type": "code",
   "execution_count": 13,
   "metadata": {
    "collapsed": false
   },
   "outputs": [
    {
     "data": {
      "text/plain": [
       "1997"
      ]
     },
     "execution_count": 13,
     "metadata": {},
     "output_type": "execute_result"
    }
   ],
   "source": [
    "brewpubs = df[~(df['type']=='Brewery')]\n",
    "len(brewpubs)"
   ]
  },
  {
   "cell_type": "code",
   "execution_count": 14,
   "metadata": {
    "collapsed": false
   },
   "outputs": [
    {
     "data": {
      "text/html": [
       "<div>\n",
       "<table border=\"1\" class=\"dataframe\">\n",
       "  <thead>\n",
       "    <tr style=\"text-align: right;\">\n",
       "      <th></th>\n",
       "      <th>Breweries</th>\n",
       "      <th>Brewpubs</th>\n",
       "      <th>Total</th>\n",
       "    </tr>\n",
       "  </thead>\n",
       "  <tbody>\n",
       "    <tr>\n",
       "      <th>CA</th>\n",
       "      <td>261</td>\n",
       "      <td>312</td>\n",
       "      <td>573</td>\n",
       "    </tr>\n",
       "    <tr>\n",
       "      <th>CO</th>\n",
       "      <td>142</td>\n",
       "      <td>115</td>\n",
       "      <td>257</td>\n",
       "    </tr>\n",
       "    <tr>\n",
       "      <th>OR</th>\n",
       "      <td>84</td>\n",
       "      <td>172</td>\n",
       "      <td>256</td>\n",
       "    </tr>\n",
       "    <tr>\n",
       "      <th>WA</th>\n",
       "      <td>136</td>\n",
       "      <td>99</td>\n",
       "      <td>235</td>\n",
       "    </tr>\n",
       "    <tr>\n",
       "      <th>MI</th>\n",
       "      <td>79</td>\n",
       "      <td>107</td>\n",
       "      <td>186</td>\n",
       "    </tr>\n",
       "  </tbody>\n",
       "</table>\n",
       "</div>"
      ],
      "text/plain": [
       "    Breweries  Brewpubs  Total\n",
       "CA        261       312    573\n",
       "CO        142       115    257\n",
       "OR         84       172    256\n",
       "WA        136        99    235\n",
       "MI         79       107    186"
      ]
     },
     "execution_count": 14,
     "metadata": {},
     "output_type": "execute_result"
    }
   ],
   "source": [
    "counts = pd.DataFrame({'Breweries' : breweries['state'].value_counts(), \n",
    "                       'Brewpubs' : brewpubs['state'].value_counts(),\n",
    "                       'Total' : df['state'].value_counts()})\n",
    "counts = counts.sort_values(by='Total', ascending=False)\n",
    "counts.head()"
   ]
  },
  {
   "cell_type": "code",
   "execution_count": 15,
   "metadata": {
    "collapsed": false
   },
   "outputs": [
    {
     "data": {
      "image/png": "[encoded data removed]",
      "text/plain": [
       "<matplotlib.figure.Figure at 0xcbf1b70>"
      ]
     },
     "metadata": {},
     "output_type": "display_data"
    }
   ],
   "source": [
    "# plot a histogram\n",
    "countdata = counts[['Breweries', 'Brewpubs']].head(10)\n",
    "ax = countdata.plot(kind='bar',                 \n",
    "                    figsize=[9, 6], \n",
    "                    width=0.8, \n",
    "                    alpha=0.7, \n",
    "                    color=['k','#666666'],\n",
    "                    edgecolor='k')\n",
    "\n",
    "ax.set_xticks(map(lambda x: x, range(0, len(countdata))))\n",
    "ax.set_xticklabels(countdata.index, rotation=0, rotation_mode='anchor', ha='center')\n",
    "ax.xaxis.grid(False)\n",
    "ax.yaxis.grid(True)\n",
    "\n",
    "legend_frame = ax.get_legend().get_frame()\n",
    "legend_frame.set_facecolor('white')\n",
    "\n",
    "ax.set_axis_bgcolor('#ffffff')\n",
    "ax.set_title('States with the most craft beer locations', font_properties=title_font)\n",
    "ax.set_xlabel('')\n",
    "ax.set_ylabel('Number of beer locations (as of 2015)', font_properties=label_font)\n",
    "ax.set_ylim(0, 350)\n",
    "\n",
    "fig = plt.gcf()\n",
    "fig.tight_layout()\n",
    "fig.savefig('states-beer-locations-type.png', dpi=300)\n",
    "\n",
    "plt.show()"
   ]
  },
  {
   "cell_type": "code",
   "execution_count": 16,
   "metadata": {
    "collapsed": false
   },
   "outputs": [
    {
     "data": {
      "text/html": [
       "<div>\n",
       "<table border=\"1\" class=\"dataframe\">\n",
       "  <thead>\n",
       "    <tr style=\"text-align: right;\">\n",
       "      <th></th>\n",
       "      <th>city</th>\n",
       "      <th>tract_fips</th>\n",
       "    </tr>\n",
       "  </thead>\n",
       "  <tbody>\n",
       "    <tr>\n",
       "      <th>23</th>\n",
       "      <td>San Diego</td>\n",
       "      <td>06073008350</td>\n",
       "    </tr>\n",
       "    <tr>\n",
       "      <th>109</th>\n",
       "      <td>San Diego</td>\n",
       "      <td>06073008350</td>\n",
       "    </tr>\n",
       "    <tr>\n",
       "      <th>282</th>\n",
       "      <td>San Diego</td>\n",
       "      <td>06073008350</td>\n",
       "    </tr>\n",
       "    <tr>\n",
       "      <th>659</th>\n",
       "      <td>Denver</td>\n",
       "      <td>08031001600</td>\n",
       "    </tr>\n",
       "    <tr>\n",
       "      <th>826</th>\n",
       "      <td>Denver</td>\n",
       "      <td>08031001600</td>\n",
       "    </tr>\n",
       "    <tr>\n",
       "      <th>1322</th>\n",
       "      <td>Denver</td>\n",
       "      <td>08031001600</td>\n",
       "    </tr>\n",
       "    <tr>\n",
       "      <th>1613</th>\n",
       "      <td>Denver</td>\n",
       "      <td>08031001600</td>\n",
       "    </tr>\n",
       "    <tr>\n",
       "      <th>1754</th>\n",
       "      <td>Denver</td>\n",
       "      <td>08031001600</td>\n",
       "    </tr>\n",
       "    <tr>\n",
       "      <th>2040</th>\n",
       "      <td>Denver</td>\n",
       "      <td>08031001600</td>\n",
       "    </tr>\n",
       "    <tr>\n",
       "      <th>2193</th>\n",
       "      <td>San Diego</td>\n",
       "      <td>06073008350</td>\n",
       "    </tr>\n",
       "    <tr>\n",
       "      <th>2705</th>\n",
       "      <td>San Diego</td>\n",
       "      <td>06073008350</td>\n",
       "    </tr>\n",
       "    <tr>\n",
       "      <th>3046</th>\n",
       "      <td>Denver</td>\n",
       "      <td>08031001600</td>\n",
       "    </tr>\n",
       "    <tr>\n",
       "      <th>3428</th>\n",
       "      <td>Denver</td>\n",
       "      <td>08031001600</td>\n",
       "    </tr>\n",
       "    <tr>\n",
       "      <th>3454</th>\n",
       "      <td>San Diego</td>\n",
       "      <td>06073008350</td>\n",
       "    </tr>\n",
       "    <tr>\n",
       "      <th>3750</th>\n",
       "      <td>Denver</td>\n",
       "      <td>08031001600</td>\n",
       "    </tr>\n",
       "    <tr>\n",
       "      <th>3953</th>\n",
       "      <td>San Diego</td>\n",
       "      <td>06073008350</td>\n",
       "    </tr>\n",
       "    <tr>\n",
       "      <th>3997</th>\n",
       "      <td>San Diego</td>\n",
       "      <td>06073008350</td>\n",
       "    </tr>\n",
       "    <tr>\n",
       "      <th>4677</th>\n",
       "      <td>San Diego</td>\n",
       "      <td>06073008350</td>\n",
       "    </tr>\n",
       "    <tr>\n",
       "      <th>4983</th>\n",
       "      <td>Denver</td>\n",
       "      <td>08031001600</td>\n",
       "    </tr>\n",
       "  </tbody>\n",
       "</table>\n",
       "</div>"
      ],
      "text/plain": [
       "           city   tract_fips\n",
       "23    San Diego  06073008350\n",
       "109   San Diego  06073008350\n",
       "282   San Diego  06073008350\n",
       "659      Denver  08031001600\n",
       "826      Denver  08031001600\n",
       "1322     Denver  08031001600\n",
       "1613     Denver  08031001600\n",
       "1754     Denver  08031001600\n",
       "2040     Denver  08031001600\n",
       "2193  San Diego  06073008350\n",
       "2705  San Diego  06073008350\n",
       "3046     Denver  08031001600\n",
       "3428     Denver  08031001600\n",
       "3454  San Diego  06073008350\n",
       "3750     Denver  08031001600\n",
       "3953  San Diego  06073008350\n",
       "3997  San Diego  06073008350\n",
       "4677  San Diego  06073008350\n",
       "4983     Denver  08031001600"
      ]
     },
     "execution_count": 16,
     "metadata": {},
     "output_type": "execute_result"
    }
   ],
   "source": [
    "# what tracts have the most beer locations\n",
    "tracts = df['tract_fips'].value_counts().head(2).index\n",
    "df[df['tract_fips'].isin(tracts)][['city','tract_fips']]"
   ]
  },
  {
   "cell_type": "code",
   "execution_count": null,
   "metadata": {
    "collapsed": true
   },
   "outputs": [],
   "source": []
  },
  {
   "cell_type": "code",
   "execution_count": null,
   "metadata": {
    "collapsed": true
   },
   "outputs": [],
   "source": []
  },
  {
   "cell_type": "code",
   "execution_count": null,
   "metadata": {
    "collapsed": true
   },
   "outputs": [],
   "source": []
  },
  {
   "cell_type": "code",
   "execution_count": 17,
   "metadata": {
    "collapsed": false
   },
   "outputs": [
    {
     "data": {
      "text/html": [
       "<div>\n",
       "<table border=\"1\" class=\"dataframe\">\n",
       "  <thead>\n",
       "    <tr style=\"text-align: right;\">\n",
       "      <th></th>\n",
       "      <th>final_appearance</th>\n",
       "      <th>first_appearance</th>\n",
       "    </tr>\n",
       "  </thead>\n",
       "  <tbody>\n",
       "    <tr>\n",
       "      <th>2005</th>\n",
       "      <td>NaN</td>\n",
       "      <td>752</td>\n",
       "    </tr>\n",
       "    <tr>\n",
       "      <th>2006</th>\n",
       "      <td>NaN</td>\n",
       "      <td>245</td>\n",
       "    </tr>\n",
       "    <tr>\n",
       "      <th>2007</th>\n",
       "      <td>NaN</td>\n",
       "      <td>105</td>\n",
       "    </tr>\n",
       "    <tr>\n",
       "      <th>2008</th>\n",
       "      <td>NaN</td>\n",
       "      <td>164</td>\n",
       "    </tr>\n",
       "    <tr>\n",
       "      <th>2009</th>\n",
       "      <td>NaN</td>\n",
       "      <td>152</td>\n",
       "    </tr>\n",
       "    <tr>\n",
       "      <th>2010</th>\n",
       "      <td>NaN</td>\n",
       "      <td>118</td>\n",
       "    </tr>\n",
       "    <tr>\n",
       "      <th>2011</th>\n",
       "      <td>NaN</td>\n",
       "      <td>203</td>\n",
       "    </tr>\n",
       "    <tr>\n",
       "      <th>2012</th>\n",
       "      <td>NaN</td>\n",
       "      <td>269</td>\n",
       "    </tr>\n",
       "    <tr>\n",
       "      <th>2013</th>\n",
       "      <td>NaN</td>\n",
       "      <td>451</td>\n",
       "    </tr>\n",
       "    <tr>\n",
       "      <th>2014</th>\n",
       "      <td>NaN</td>\n",
       "      <td>620</td>\n",
       "    </tr>\n",
       "    <tr>\n",
       "      <th>2015</th>\n",
       "      <td>4044</td>\n",
       "      <td>965</td>\n",
       "    </tr>\n",
       "  </tbody>\n",
       "</table>\n",
       "</div>"
      ],
      "text/plain": [
       "      final_appearance  first_appearance\n",
       "2005               NaN               752\n",
       "2006               NaN               245\n",
       "2007               NaN               105\n",
       "2008               NaN               164\n",
       "2009               NaN               152\n",
       "2010               NaN               118\n",
       "2011               NaN               203\n",
       "2012               NaN               269\n",
       "2013               NaN               451\n",
       "2014               NaN               620\n",
       "2015              4044               965"
      ]
     },
     "execution_count": 17,
     "metadata": {},
     "output_type": "execute_result"
    }
   ],
   "source": [
    "# how many locations made their first or their final appearances in each year?\n",
    "pd.DataFrame({'first_appearance' : df['first_appearance'].value_counts(), \n",
    "              'final_appearance' : df['final_appearance'].value_counts()})"
   ]
  },
  {
   "cell_type": "code",
   "execution_count": null,
   "metadata": {
    "collapsed": true
   },
   "outputs": [],
   "source": []
  }
 ],
 "metadata": {
  "kernelspec": {
   "display_name": "Python 2",
   "language": "python",
   "name": "python2"
  },
  "language_info": {
   "codemirror_mode": {
    "name": "ipython",
    "version": 2
   },
   "file_extension": ".py",
   "mimetype": "text/x-python",
   "name": "python",
   "nbconvert_exporter": "python",
   "pygments_lexer": "ipython2",
   "version": "2.7.10"
  }
 },
 "nbformat": 4,
 "nbformat_minor": 0
}
