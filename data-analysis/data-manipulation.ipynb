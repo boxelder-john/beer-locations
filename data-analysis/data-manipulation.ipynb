{
 "cells": [
  {
   "cell_type": "code",
   "execution_count": 1,
   "metadata": {
    "collapsed": false
   },
   "outputs": [],
   "source": [
    "import pandas as pd, os, numpy as np, requests, json\n",
    "from time import time\n",
    "%matplotlib inline"
   ]
  },
  {
   "cell_type": "code",
   "execution_count": 2,
   "metadata": {
    "collapsed": false
   },
   "outputs": [],
   "source": [
    "# load the data\n",
    "data_types = {'zip':str, 'block_fips':str, 'tract_fips':str}\n",
    "locations = pd.read_csv('locations-fips.csv', encoding='utf-8', converters=data_types)"
   ]
  },
  {
   "cell_type": "code",
   "execution_count": 3,
   "metadata": {
    "collapsed": false
   },
   "outputs": [],
   "source": [
    "# create a new column to filter dupes\n",
    "locations['name_tract'] = locations['name'] + '+++' + locations['tract_fips'].astype('string')\n",
    "locations['name_block'] = locations['name'] + '+++' + locations['block_fips'].astype('string')"
   ]
  },
  {
   "cell_type": "code",
   "execution_count": 4,
   "metadata": {
    "collapsed": false
   },
   "outputs": [],
   "source": [
    "# the duplicates are any rows that match another in terms of name + fips\n",
    "dupes_temp = locations['name_block'].value_counts()\n",
    "dupes_temp = dupes_temp[dupes_temp > 1]\n",
    "name_tract = pd.Series(dupes_temp.index)"
   ]
  },
  {
   "cell_type": "code",
   "execution_count": 5,
   "metadata": {
    "collapsed": false
   },
   "outputs": [
    {
     "data": {
      "text/html": [
       "<div style=\"max-height:1000px;max-width:1500px;overflow:auto;\">\n",
       "<table border=\"1\" class=\"dataframe\">\n",
       "  <thead>\n",
       "    <tr style=\"text-align: right;\">\n",
       "      <th></th>\n",
       "      <th>name</th>\n",
       "      <th>block_fips</th>\n",
       "    </tr>\n",
       "  </thead>\n",
       "  <tbody>\n",
       "    <tr>\n",
       "      <th>0</th>\n",
       "      <td> Shizmo Brewing Co. (by appt only)</td>\n",
       "      <td> 060855008001000</td>\n",
       "    </tr>\n",
       "    <tr>\n",
       "      <th>1</th>\n",
       "      <td>                   Buffalo Brewpub</td>\n",
       "      <td> 360290096001003</td>\n",
       "    </tr>\n",
       "    <tr>\n",
       "      <th>2</th>\n",
       "      <td>              Old Boys' Brew House</td>\n",
       "      <td> 261390211001025</td>\n",
       "    </tr>\n",
       "    <tr>\n",
       "      <th>3</th>\n",
       "      <td>       River City Brewing Company </td>\n",
       "      <td> 201730043002040</td>\n",
       "    </tr>\n",
       "    <tr>\n",
       "      <th>4</th>\n",
       "      <td>             Telegraph Brewing Co.</td>\n",
       "      <td> 060830009001017</td>\n",
       "    </tr>\n",
       "  </tbody>\n",
       "</table>\n",
       "</div>"
      ],
      "text/plain": [
       "                                name       block_fips\n",
       "0  Shizmo Brewing Co. (by appt only)  060855008001000\n",
       "1                    Buffalo Brewpub  360290096001003\n",
       "2               Old Boys' Brew House  261390211001025\n",
       "3        River City Brewing Company   201730043002040\n",
       "4              Telegraph Brewing Co.  060830009001017"
      ]
     },
     "execution_count": 5,
     "metadata": {},
     "output_type": "execute_result"
    }
   ],
   "source": [
    "duplicates  = pd.DataFrame()\n",
    "duplicates['name'] = name_tract.str.split('\\+\\+\\+', return_type='frame')[0]\n",
    "duplicates['block_fips'] = name_tract.str.split('\\+\\+\\+', return_type='frame')[1]\n",
    "duplicates.head()"
   ]
  },
  {
   "cell_type": "code",
   "execution_count": 6,
   "metadata": {
    "collapsed": false
   },
   "outputs": [],
   "source": [
    "# locations_with_dupes contains all rows that match another row's name+block_fips\n",
    "locations_with_dupes = locations[locations['name_block'].isin(name_tract)]"
   ]
  },
  {
   "cell_type": "code",
   "execution_count": 7,
   "metadata": {
    "collapsed": false
   },
   "outputs": [
    {
     "data": {
      "text/plain": [
       "879"
      ]
     },
     "execution_count": 7,
     "metadata": {},
     "output_type": "execute_result"
    }
   ],
   "source": [
    "len(locations_with_dupes)"
   ]
  },
  {
   "cell_type": "code",
   "execution_count": 44,
   "metadata": {
    "collapsed": false
   },
   "outputs": [
    {
     "data": {
      "text/plain": [
       "676"
      ]
     },
     "execution_count": 44,
     "metadata": {},
     "output_type": "execute_result"
    }
   ],
   "source": [
    "# get a list of duplicate IDs in the full data set\n",
    "dupes_temp = locations['id'].value_counts()\n",
    "dupes_temp = dupes_temp[dupes_temp > 1]\n",
    "dupe_IDs = pd.Series(dupes_temp.index)\n",
    "\n",
    "# output to csv all rows that have the same ID as another row in the full data set\n",
    "rows_with_dupe_IDs = locations[locations['id'].isin(dupe_IDs)]\n",
    "rows_with_dupe_IDs = rows_with_dupe_IDs.drop(axis=1, labels=['name_tract', 'name_block'])\n",
    "rows_with_dupe_IDs = rows_with_dupe_IDs.sort('id')\n",
    "rows_with_dupe_IDs.to_csv('rows_with_dupe_IDs.csv', encoding='utf-8', index=False)\n",
    "len(rows_with_dupe_IDs)"
   ]
  },
  {
   "cell_type": "code",
   "execution_count": 47,
   "metadata": {
    "collapsed": false
   },
   "outputs": [
    {
     "data": {
      "text/plain": [
       "731"
      ]
     },
     "execution_count": 47,
     "metadata": {},
     "output_type": "execute_result"
    }
   ],
   "source": [
    "# output to csv all dupe (name+block_fips) rows that DO NOT have the same ID as another row among the dupes\n",
    "dupes_temp = locations_with_dupes['id'].value_counts()\n",
    "dupes_temp = dupes_temp[dupes_temp > 1]\n",
    "dupe_IDs = pd.Series(dupes_temp.index)\n",
    "\n",
    "non_dupe_IDs = locations_with_dupes[~locations_with_dupes['id'].isin(dupe_ID)]\n",
    "non_dupe_IDs = non_dupe_IDs.drop(axis=1, labels=['name_tract', 'name_block'])\n",
    "non_dupe_IDs = non_dupe_IDs.sort('name')\n",
    "non_dupe_IDs.to_csv('non-dupe-IDs.csv', encoding='utf-8', index=False)\n",
    "len(non_dupe_IDs)"
   ]
  },
  {
   "cell_type": "code",
   "execution_count": 15,
   "metadata": {
    "collapsed": false
   },
   "outputs": [],
   "source": [
    "# remove unnecessary columns\n",
    "locations_with_dupes = locations_with_dupes.drop(axis=1, labels=['name_tract'])"
   ]
  },
  {
   "cell_type": "code",
   "execution_count": 16,
   "metadata": {
    "collapsed": false
   },
   "outputs": [],
   "source": [
    "# save to csv\n",
    "locations_with_dupes.to_csv('dupes.csv', encoding='utf-8', index=False)"
   ]
  },
  {
   "cell_type": "code",
   "execution_count": null,
   "metadata": {
    "collapsed": false
   },
   "outputs": [],
   "source": []
  }
 ],
 "metadata": {
  "kernelspec": {
   "display_name": "Python 2",
   "language": "python",
   "name": "python2"
  },
  "language_info": {
   "codemirror_mode": {
    "name": "ipython",
    "version": 2
   },
   "file_extension": ".py",
   "mimetype": "text/x-python",
   "name": "python",
   "nbconvert_exporter": "python",
   "pygments_lexer": "ipython2",
   "version": "2.7.7"
  }
 },
 "nbformat": 4,
 "nbformat_minor": 0
}
